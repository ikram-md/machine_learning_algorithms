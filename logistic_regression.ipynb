{
 "cells": [
  {
   "cell_type": "markdown",
   "id": "91f0077f",
   "metadata": {},
   "source": [
    "# Logistic regression "
   ]
  },
  {
   "cell_type": "code",
   "execution_count": 127,
   "id": "a2ffb969",
   "metadata": {},
   "outputs": [],
   "source": [
    "import math,copy\n",
    "import numpy as np\n",
    "import pandas as pd\n",
    "import matplotlib.pyplot as plt\n"
   ]
  },
  {
   "cell_type": "markdown",
   "id": "0cc44aa4",
   "metadata": {},
   "source": [
    "First we start by exploring our data set, then selecting we preform, if possible, some feature engineering."
   ]
  },
  {
   "cell_type": "code",
   "execution_count": 45,
   "id": "ebcb5f45",
   "metadata": {},
   "outputs": [],
   "source": [
    "data = pd.read_csv('data/framingham.csv').head(60)\n"
   ]
  },
  {
   "cell_type": "code",
   "execution_count": 93,
   "id": "9af1e047",
   "metadata": {},
   "outputs": [],
   "source": [
    "x_train = np.array([data['age'], data[\"currentSmoker\"], data['cigsPerDay'], data['sysBP'], data[\"BMI\"]])\n",
    "y_train = np.array(data['TenYearCHD'])"
   ]
  },
  {
   "cell_type": "markdown",
   "id": "bb6dc9f4",
   "metadata": {},
   "source": [
    "The following data set is for testing purposes. "
   ]
  },
  {
   "cell_type": "code",
   "execution_count": 172,
   "id": "78c5a127",
   "metadata": {
    "scrolled": true
   },
   "outputs": [],
   "source": [
    "x_ex = np.array([[0.5, 1.5], [1,1], [1.5, 0.5], [3, 0.5], [2, 2], [1, 2.5]])\n",
    "y_ex = np.array([0, 0, 0, 1, 1, 1])"
   ]
  },
  {
   "cell_type": "markdown",
   "id": "2da7f085",
   "metadata": {},
   "source": [
    "We plot the intial data first to visualize the clusters clearly. The following plot showcases the distribution of y values in contrast to age."
   ]
  },
  {
   "cell_type": "code",
   "execution_count": 51,
   "id": "210e79a8",
   "metadata": {
    "scrolled": true
   },
   "outputs": [
    {
     "data": {
      "text/plain": [
       "[<matplotlib.lines.Line2D at 0x7fd3496e9580>]"
      ]
     },
     "execution_count": 51,
     "metadata": {},
     "output_type": "execute_result"
    },
    {
     "data": {
      "image/png": "[encoded data removed]",
      "text/plain": [
       "<Figure size 432x288 with 1 Axes>"
      ]
     },
     "metadata": {
      "needs_background": "light"
     },
     "output_type": "display_data"
    }
   ],
   "source": [
    "plt.plot(x_train[0],y_train[0],'go')"
   ]
  },
  {
   "cell_type": "markdown",
   "id": "284f29c5",
   "metadata": {},
   "source": [
    "Initializing values for the coefficiants vector w and the value b."
   ]
  },
  {
   "cell_type": "code",
   "execution_count": 121,
   "id": "c765bb0d",
   "metadata": {},
   "outputs": [],
   "source": [
    "w_init = np.zeros(x_train.shape[0])\n",
    "b_init = -1"
   ]
  },
  {
   "cell_type": "markdown",
   "id": "73b297cb",
   "metadata": {},
   "source": [
    "**Step 1** implementing the sigmoid function. where *z* is the linear model."
   ]
  },
  {
   "cell_type": "code",
   "execution_count": 21,
   "id": "61453b80",
   "metadata": {},
   "outputs": [],
   "source": [
    "def sigmoid(z):\n",
    "    return 1 / (1+np.exp(-z))"
   ]
  },
  {
   "cell_type": "markdown",
   "id": "8b3949d4",
   "metadata": {},
   "source": [
    "**Step 2** Implementing the function which computes the cost.\n",
    "*Note that the logistic cost is different than the linear cost and requires calculating the Loss function L*."
   ]
  },
  {
   "cell_type": "code",
   "execution_count": 122,
   "id": "b4322781",
   "metadata": {},
   "outputs": [],
   "source": [
    "def compute_cost(x_set,y_set,w_coef,b):\n",
    "    m = x_set.shape[0]\n",
    "    cost = 0\n",
    "    for i in range(m):\n",
    "        z = np.dot(w_coef,x_set[i]) + b\n",
    "        fx_wb = sigmoid(z)\n",
    "        loss = (np.log(fx_wb) * -y_set[i]) - ((1-y_set[i])*np.log(1-fx_wb))\n",
    "        cost += loss\n",
    "    return cost / m"
   ]
  },
  {
   "cell_type": "markdown",
   "id": "8bf16516",
   "metadata": {},
   "source": [
    "Testing the function."
   ]
  },
  {
   "cell_type": "code",
   "execution_count": 168,
   "id": "71202bc5",
   "metadata": {},
   "outputs": [
    {
     "data": {
      "text/plain": [
       "(6, 2)"
      ]
     },
     "execution_count": 168,
     "metadata": {},
     "output_type": "execute_result"
    }
   ],
   "source": [
    "x_ex.shape"
   ]
  },
  {
   "cell_type": "code",
   "execution_count": 167,
   "id": "b192ca04",
   "metadata": {
    "scrolled": true
   },
   "outputs": [
    {
     "ename": "ValueError",
     "evalue": "shapes (5,) and (2,) not aligned: 5 (dim 0) != 2 (dim 0)",
     "output_type": "error",
     "traceback": [
      "\u001b[0;31m---------------------------------------------------------------------------\u001b[0m",
      "\u001b[0;31mValueError\u001b[0m                                Traceback (most recent call last)",
      "\u001b[0;32m<ipython-input-167-8d3db0785b37>\u001b[0m in \u001b[0;36m<module>\u001b[0;34m\u001b[0m\n\u001b[0;32m----> 1\u001b[0;31m \u001b[0mcompute_cost\u001b[0m\u001b[0;34m(\u001b[0m\u001b[0mx_ex\u001b[0m\u001b[0;34m,\u001b[0m \u001b[0my_ex\u001b[0m\u001b[0;34m,\u001b[0m \u001b[0mw_init\u001b[0m\u001b[0;34m,\u001b[0m \u001b[0mb_init\u001b[0m\u001b[0;34m)\u001b[0m\u001b[0;34m\u001b[0m\u001b[0;34m\u001b[0m\u001b[0m\n\u001b[0m",
      "\u001b[0;32m<ipython-input-122-181daa6549d1>\u001b[0m in \u001b[0;36mcompute_cost\u001b[0;34m(x_set, y_set, w_coef, b)\u001b[0m\n\u001b[1;32m      3\u001b[0m     \u001b[0mcost\u001b[0m \u001b[0;34m=\u001b[0m \u001b[0;36m0\u001b[0m\u001b[0;34m\u001b[0m\u001b[0;34m\u001b[0m\u001b[0m\n\u001b[1;32m      4\u001b[0m     \u001b[0;32mfor\u001b[0m \u001b[0mi\u001b[0m \u001b[0;32min\u001b[0m \u001b[0mrange\u001b[0m\u001b[0;34m(\u001b[0m\u001b[0mm\u001b[0m\u001b[0;34m)\u001b[0m\u001b[0;34m:\u001b[0m\u001b[0;34m\u001b[0m\u001b[0;34m\u001b[0m\u001b[0m\n\u001b[0;32m----> 5\u001b[0;31m         \u001b[0mz\u001b[0m \u001b[0;34m=\u001b[0m \u001b[0mnp\u001b[0m\u001b[0;34m.\u001b[0m\u001b[0mdot\u001b[0m\u001b[0;34m(\u001b[0m\u001b[0mw_coef\u001b[0m\u001b[0;34m,\u001b[0m\u001b[0mx_set\u001b[0m\u001b[0;34m[\u001b[0m\u001b[0mi\u001b[0m\u001b[0;34m]\u001b[0m\u001b[0;34m)\u001b[0m \u001b[0;34m+\u001b[0m \u001b[0mb\u001b[0m\u001b[0;34m\u001b[0m\u001b[0;34m\u001b[0m\u001b[0m\n\u001b[0m\u001b[1;32m      6\u001b[0m         \u001b[0mfx_wb\u001b[0m \u001b[0;34m=\u001b[0m \u001b[0msigmoid\u001b[0m\u001b[0;34m(\u001b[0m\u001b[0mz\u001b[0m\u001b[0;34m)\u001b[0m\u001b[0;34m\u001b[0m\u001b[0;34m\u001b[0m\u001b[0m\n\u001b[1;32m      7\u001b[0m         \u001b[0mloss\u001b[0m \u001b[0;34m=\u001b[0m \u001b[0;34m(\u001b[0m\u001b[0mnp\u001b[0m\u001b[0;34m.\u001b[0m\u001b[0mlog\u001b[0m\u001b[0;34m(\u001b[0m\u001b[0mfx_wb\u001b[0m\u001b[0;34m)\u001b[0m \u001b[0;34m*\u001b[0m \u001b[0;34m-\u001b[0m\u001b[0my_set\u001b[0m\u001b[0;34m[\u001b[0m\u001b[0mi\u001b[0m\u001b[0;34m]\u001b[0m\u001b[0;34m)\u001b[0m \u001b[0;34m-\u001b[0m \u001b[0;34m(\u001b[0m\u001b[0;34m(\u001b[0m\u001b[0;36m1\u001b[0m\u001b[0;34m-\u001b[0m\u001b[0my_set\u001b[0m\u001b[0;34m[\u001b[0m\u001b[0mi\u001b[0m\u001b[0;34m]\u001b[0m\u001b[0;34m)\u001b[0m\u001b[0;34m*\u001b[0m\u001b[0mnp\u001b[0m\u001b[0;34m.\u001b[0m\u001b[0mlog\u001b[0m\u001b[0;34m(\u001b[0m\u001b[0;36m1\u001b[0m\u001b[0;34m-\u001b[0m\u001b[0mfx_wb\u001b[0m\u001b[0;34m)\u001b[0m\u001b[0;34m)\u001b[0m\u001b[0;34m\u001b[0m\u001b[0;34m\u001b[0m\u001b[0m\n",
      "\u001b[0;32m<__array_function__ internals>\u001b[0m in \u001b[0;36mdot\u001b[0;34m(*args, **kwargs)\u001b[0m\n",
      "\u001b[0;31mValueError\u001b[0m: shapes (5,) and (2,) not aligned: 5 (dim 0) != 2 (dim 0)"
     ]
    }
   ],
   "source": [
    "compute_cost(x_ex, y_ex, w_init, b_init)"
   ]
  },
  {
   "cell_type": "markdown",
   "id": "18fcb190",
   "metadata": {},
   "source": [
    "**Step 3** calculating the gradient *dj_db* & *dj_dw*."
   ]
  },
  {
   "cell_type": "code",
   "execution_count": 123,
   "id": "1487a8c1",
   "metadata": {},
   "outputs": [],
   "source": [
    "def calculate_gradient(x_set,y_set,w_coef,b):\n",
    "    m,n = x_set.shape\n",
    "    dj_dw = np.zeros((n,))\n",
    "    dj_db = 0.0\n",
    "    for i in range(m):\n",
    "        fx_wb = sigmoid(np.dot(x_set[i], w_coef) + b)\n",
    "        square = fx_wb - y_set[i]\n",
    "        for j in range(n):\n",
    "            dj_dw[j] = dj_dw[j] + square * x_set[i,j]\n",
    "        dj_db = dj_db + square\n",
    "    return dj_dw/m, dj_db/m\n",
    "            "
   ]
  },
  {
   "cell_type": "code",
   "execution_count": 125,
   "id": "331cf55b",
   "metadata": {
    "scrolled": false
   },
   "outputs": [
    {
     "name": "stdout",
     "output_type": "stream",
     "text": [
      "found dj_dw : [1.14826668 0.01458445 0.06056324 4.24995416 1.53795761]\n",
      "found db_dw : 0.05227475470332852\n"
     ]
    }
   ],
   "source": [
    "dj,db = calculate_gradient(x_train.transpose(), y_train, w_init, b_init)\n",
    "print(f\"found dj_dw : {dj}\")\n",
    "print(f\"found db_dw : {db}\")"
   ]
  },
  {
   "cell_type": "markdown",
   "id": "45e13aba",
   "metadata": {},
   "source": [
    "**Step 4** Implementing gradient descent."
   ]
  },
  {
   "cell_type": "code",
   "execution_count": 174,
   "id": "c022a473",
   "metadata": {},
   "outputs": [],
   "source": [
    "def logistic_gradient_descent(x_set,y_set,w_in,b_in,cost_fn,grad_fn,alpha,iterations):\n",
    "    w = copy.deepcopy(w_in)\n",
    "    b = b_in\n",
    "    \n",
    "    j_hist = []\n",
    "    wb_hist = []\n",
    "    for i in range(iterations):\n",
    "        #find the gradient in every step of the loop\n",
    "        dw,db = grad_fn(x_set,y_set,w,b)\n",
    "        w = w - alpha * dw\n",
    "        b = b - alpha * db\n",
    "        \n",
    "        #save the found cost with values w and b for plotting later \n",
    "        if i <100000:\n",
    "            j_hist.append(cost_fn(x_set,y_set,w,b))\n",
    "            wb_hist.append([w,b])\n",
    "        if i % (math.ceil(iterations / 10)) == 0 :\n",
    "            print(f\"Cost at iteration {i} = {j_hist[-1]}\")\n",
    "    return w,b,j_hist,wb_hist"
   ]
  },
  {
   "cell_type": "markdown",
   "id": "ca57fc73",
   "metadata": {},
   "source": [
    "Testing gradient descent and the predicted values of the coefficiants."
   ]
  },
  {
   "cell_type": "code",
   "execution_count": 175,
   "id": "7e45c732",
   "metadata": {
    "scrolled": true
   },
   "outputs": [
    {
     "name": "stdout",
     "output_type": "stream",
     "text": [
      "Cost at iteration 0 = 0.684610468560574\n",
      "Cost at iteration 1000 = 0.1590977666870457\n",
      "Cost at iteration 2000 = 0.08460064176930078\n",
      "Cost at iteration 3000 = 0.05705327279402531\n",
      "Cost at iteration 4000 = 0.04290759421682\n",
      "Cost at iteration 5000 = 0.03433847729884557\n",
      "Cost at iteration 6000 = 0.02860379802212006\n",
      "Cost at iteration 7000 = 0.02450156960879306\n",
      "Cost at iteration 8000 = 0.02142370332569295\n",
      "Cost at iteration 9000 = 0.019030137124109114\n",
      "Predicted value of w = [5.28123029 5.07815608] & b = -14.222409982019837\n"
     ]
    }
   ],
   "source": [
    "alph = 0.1\n",
    "iters = 10000\n",
    "w_temp = np.zeros(x_ex.shape[1])\n",
    "b_temp = 0\n",
    "\n",
    "\n",
    "w_out,b_out,j_arr,wb_arr = logistic_gradient_descent(x_ex, y_ex, w_temp, b_temp,compute_cost,calculate_gradient, alph,iters)\n",
    "print(f\"Predicted value of w = {w_out} & b = {b_out}\")"
   ]
  },
  {
   "cell_type": "markdown",
   "id": "bb731eb8",
   "metadata": {},
   "source": [
    "**Step 5** predecting Y value using the found **w** & **b** values."
   ]
  },
  {
   "cell_type": "code",
   "execution_count": 179,
   "id": "a87df679",
   "metadata": {},
   "outputs": [
    {
     "data": {
      "text/plain": [
       "array([[0.99955579, 0.99999774],\n",
       "       [0.99996831, 0.99996831],\n",
       "       [0.99999774, 0.99955579],\n",
       "       [1.        , 0.99955579],\n",
       "       [0.99999984, 0.99999984],\n",
       "       [0.99996831, 0.99999999]])"
      ]
     },
     "execution_count": 179,
     "metadata": {},
     "output_type": "execute_result"
    }
   ],
   "source": [
    "sigmoid(np.dot(w_out[0],x_ex) + w_out[1])"
   ]
  }
 ],
 "metadata": {
  "kernelspec": {
   "display_name": "Python 3",
   "language": "python",
   "name": "python3"
  },
  "language_info": {
   "codemirror_mode": {
    "name": "ipython",
    "version": 3
   },
   "file_extension": ".py",
   "mimetype": "text/x-python",
   "name": "python",
   "nbconvert_exporter": "python",
   "pygments_lexer": "ipython3",
   "version": "3.8.8"
  }
 },
 "nbformat": 4,
 "nbformat_minor": 5
}
