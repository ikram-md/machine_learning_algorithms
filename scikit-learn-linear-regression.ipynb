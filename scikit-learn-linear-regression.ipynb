{
 "cells": [
  {
   "cell_type": "markdown",
   "id": "2c7b6946",
   "metadata": {},
   "source": [
    "# Linear regression using Scikit-learn"
   ]
  },
  {
   "cell_type": "code",
   "execution_count": 3,
   "id": "4e9839a0",
   "metadata": {},
   "outputs": [],
   "source": [
    "import numpy as np\n",
    "import matplotlib.pyplot as plt\n",
    "import pandas as pd\n",
    "from sklearn.linear_model import SGDRegressor\n",
    "from sklearn.preprocessing import StandardScaler"
   ]
  },
  {
   "cell_type": "code",
   "execution_count": 8,
   "id": "726ce502",
   "metadata": {},
   "outputs": [],
   "source": [
    "data = pd.read_csv('data/weatherHistory.csv').head(30)"
   ]
  },
  {
   "cell_type": "code",
   "execution_count": 9,
   "id": "4c9db955",
   "metadata": {
    "scrolled": true
   },
   "outputs": [
    {
     "name": "stdout",
     "output_type": "stream",
     "text": [
      "<class 'pandas.core.frame.DataFrame'>\n",
      "RangeIndex: 30 entries, 0 to 29\n",
      "Data columns (total 12 columns):\n",
      " #   Column                    Non-Null Count  Dtype  \n",
      "---  ------                    --------------  -----  \n",
      " 0   Formatted Date            30 non-null     object \n",
      " 1   Summary                   30 non-null     object \n",
      " 2   Precip Type               30 non-null     object \n",
      " 3   Temperature (C)           30 non-null     float64\n",
      " 4   Apparent Temperature (C)  30 non-null     float64\n",
      " 5   Humidity                  30 non-null     float64\n",
      " 6   Wind Speed (km/h)         30 non-null     float64\n",
      " 7   Wind Bearing (degrees)    30 non-null     float64\n",
      " 8   Visibility (km)           30 non-null     float64\n",
      " 9   Loud Cover                30 non-null     float64\n",
      " 10  Pressure (millibars)      30 non-null     float64\n",
      " 11  Daily Summary             30 non-null     object \n",
      "dtypes: float64(8), object(4)\n",
      "memory usage: 2.9+ KB\n"
     ]
    }
   ],
   "source": [
    "data.info()"
   ]
  },
  {
   "cell_type": "markdown",
   "id": "b3147787",
   "metadata": {},
   "source": [
    "First, we start by selecting the features and the target values."
   ]
  },
  {
   "cell_type": "code",
   "execution_count": 22,
   "id": "845f4644",
   "metadata": {
    "scrolled": true
   },
   "outputs": [],
   "source": [
    "x_train = np.array([data['Humidity'], data['Wind Speed (km/h)'], data['Pressure (millibars)']]).transpose()\n",
    "y_train = np.array(data['Temperature (C)'])\n"
   ]
  },
  {
   "cell_type": "code",
   "execution_count": 23,
   "id": "72684971",
   "metadata": {},
   "outputs": [
    {
     "name": "stdout",
     "output_type": "stream",
     "text": [
      "X is of size (30, 3)\n",
      "Y is of size (30,)\n"
     ]
    }
   ],
   "source": [
    "print(f\"X is of size {x_train.shape}\")\n",
    "print(f\"Y is of size {y_train.shape}\")"
   ]
  },
  {
   "cell_type": "markdown",
   "id": "7e8603f7",
   "metadata": {},
   "source": [
    "Scaling the data before feeding it to the learning algorithm."
   ]
  },
  {
   "cell_type": "code",
   "execution_count": 24,
   "id": "27632554",
   "metadata": {
    "scrolled": true
   },
   "outputs": [
    {
     "name": "stdout",
     "output_type": "stream",
     "text": [
      " Raw        X:[ 0.49   18.0159  9.03  ]\n",
      "Normalized X : [3.69954466 3.85855164 5.40322874]\n"
     ]
    }
   ],
   "source": [
    "scalar = StandardScaler()\n",
    "x_scaled = scalar.fit_transform(x_train)\n",
    "print(f\" Raw        X:{np.ptp(x_train,axis=0)}\")   \n",
    "print(f\"Normalized X : {np.ptp(x_scaled,axis=0)}\")"
   ]
  },
  {
   "cell_type": "markdown",
   "id": "e8aec4ea",
   "metadata": {},
   "source": [
    "creating and fitting the data into the linear regression model."
   ]
  },
  {
   "cell_type": "code",
   "execution_count": 26,
   "id": "30ca4d2e",
   "metadata": {},
   "outputs": [
    {
     "name": "stdout",
     "output_type": "stream",
     "text": [
      "SGDRegressor(max_iter=10000)\n",
      "number of iterations completed: 86, number of weight updates: 2581.0\n"
     ]
    }
   ],
   "source": [
    "sgdr = SGDRegressor(max_iter=10000)\n",
    "sgdr.fit(x_scaled, y_train)\n",
    "print(sgdr)\n",
    "print(f\"number of iterations completed: {sgdr.n_iter_}, number of weight updates: {sgdr.t_}\")"
   ]
  },
  {
   "cell_type": "markdown",
   "id": "5a5b4df2",
   "metadata": {},
   "source": [
    "Finding the optimized paramaters **w** & **b**."
   ]
  },
  {
   "cell_type": "code",
   "execution_count": 28,
   "id": "89a6f457",
   "metadata": {},
   "outputs": [
    {
     "name": "stdout",
     "output_type": "stream",
     "text": [
      "Foud optimized w = [-3.04329507e+00  1.05557373e-03  6.82903836e-01] & b = [11.72889472]\n"
     ]
    }
   ],
   "source": [
    "b_opt = sgdr.intercept_\n",
    "w_opt = sgdr.coef_\n",
    "print(f\"Foud optimized w = {w_opt} & b = {b_opt}\")"
   ]
  },
  {
   "cell_type": "markdown",
   "id": "c366d6d4",
   "metadata": {},
   "source": [
    "Once finding optimal w & b, we can now plug them into the linear model."
   ]
  },
  {
   "cell_type": "code",
   "execution_count": 36,
   "id": "0c315c03",
   "metadata": {},
   "outputs": [
    {
     "name": "stdout",
     "output_type": "stream",
     "text": [
      "prediction using np.dot() and sgdr.predict match: True\n",
      "Prediction on training set:\n",
      "[7.80444131 8.69810133 8.13312371 9.70610725]\n",
      "Target values \n",
      "[9.47222222 9.35555556 9.37777778 8.28888889]\n"
     ]
    }
   ],
   "source": [
    "y_pred_sgd = sgdr.predict(x_scaled)\n",
    "y_pred_sgd\n",
    "fx = np.dot(x_scaled, w_opt) + b_opt\n",
    "print(f\"prediction using np.dot() and sgdr.predict match: {(fx == y_pred_sgd).all()}\")\n",
    "\n",
    "print(f\"Prediction on training set:\\n{fx[:4]}\" )\n",
    "print(f\"Target values \\n{y_train[:4]}\")\n"
   ]
  }
 ],
 "metadata": {
  "kernelspec": {
   "display_name": "Python 3",
   "language": "python",
   "name": "python3"
  },
  "language_info": {
   "codemirror_mode": {
    "name": "ipython",
    "version": 3
   },
   "file_extension": ".py",
   "mimetype": "text/x-python",
   "name": "python",
   "nbconvert_exporter": "python",
   "pygments_lexer": "ipython3",
   "version": "3.8.8"
  }
 },
 "nbformat": 4,
 "nbformat_minor": 5
}
