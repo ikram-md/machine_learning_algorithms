{
 "cells": [
  {
   "cell_type": "markdown",
   "id": "916b7992",
   "metadata": {},
   "source": [
    "# Multi variable linear regression model"
   ]
  },
  {
   "cell_type": "code",
   "execution_count": 182,
   "id": "cced4b97",
   "metadata": {},
   "outputs": [],
   "source": [
    "import math\n",
    "import pandas as pd\n",
    "import numpy as np\n",
    "import matplotlib.pyplot as plt"
   ]
  },
  {
   "cell_type": "code",
   "execution_count": 2,
   "id": "4da23ee6",
   "metadata": {
    "scrolled": true
   },
   "outputs": [
    {
     "data": {
      "text/html": [
       "<div>\n",
       "<style scoped>\n",
       "    .dataframe tbody tr th:only-of-type {\n",
       "        vertical-align: middle;\n",
       "    }\n",
       "\n",
       "    .dataframe tbody tr th {\n",
       "        vertical-align: top;\n",
       "    }\n",
       "\n",
       "    .dataframe thead th {\n",
       "        text-align: right;\n",
       "    }\n",
       "</style>\n",
       "<table border=\"1\" class=\"dataframe\">\n",
       "  <thead>\n",
       "    <tr style=\"text-align: right;\">\n",
       "      <th></th>\n",
       "      <th>Formatted Date</th>\n",
       "      <th>Summary</th>\n",
       "      <th>Precip Type</th>\n",
       "      <th>Temperature (C)</th>\n",
       "      <th>Apparent Temperature (C)</th>\n",
       "      <th>Humidity</th>\n",
       "      <th>Wind Speed (km/h)</th>\n",
       "      <th>Wind Bearing (degrees)</th>\n",
       "      <th>Visibility (km)</th>\n",
       "      <th>Loud Cover</th>\n",
       "      <th>Pressure (millibars)</th>\n",
       "      <th>Daily Summary</th>\n",
       "    </tr>\n",
       "  </thead>\n",
       "  <tbody>\n",
       "    <tr>\n",
       "      <th>0</th>\n",
       "      <td>2006-04-01 00:00:00.000 +0200</td>\n",
       "      <td>Partly Cloudy</td>\n",
       "      <td>rain</td>\n",
       "      <td>9.472222</td>\n",
       "      <td>7.388889</td>\n",
       "      <td>0.89</td>\n",
       "      <td>14.1197</td>\n",
       "      <td>251.0</td>\n",
       "      <td>15.8263</td>\n",
       "      <td>0.0</td>\n",
       "      <td>1015.13</td>\n",
       "      <td>Partly cloudy throughout the day.</td>\n",
       "    </tr>\n",
       "    <tr>\n",
       "      <th>1</th>\n",
       "      <td>2006-04-01 01:00:00.000 +0200</td>\n",
       "      <td>Partly Cloudy</td>\n",
       "      <td>rain</td>\n",
       "      <td>9.355556</td>\n",
       "      <td>7.227778</td>\n",
       "      <td>0.86</td>\n",
       "      <td>14.2646</td>\n",
       "      <td>259.0</td>\n",
       "      <td>15.8263</td>\n",
       "      <td>0.0</td>\n",
       "      <td>1015.63</td>\n",
       "      <td>Partly cloudy throughout the day.</td>\n",
       "    </tr>\n",
       "    <tr>\n",
       "      <th>2</th>\n",
       "      <td>2006-04-01 02:00:00.000 +0200</td>\n",
       "      <td>Mostly Cloudy</td>\n",
       "      <td>rain</td>\n",
       "      <td>9.377778</td>\n",
       "      <td>9.377778</td>\n",
       "      <td>0.89</td>\n",
       "      <td>3.9284</td>\n",
       "      <td>204.0</td>\n",
       "      <td>14.9569</td>\n",
       "      <td>0.0</td>\n",
       "      <td>1015.94</td>\n",
       "      <td>Partly cloudy throughout the day.</td>\n",
       "    </tr>\n",
       "    <tr>\n",
       "      <th>3</th>\n",
       "      <td>2006-04-01 03:00:00.000 +0200</td>\n",
       "      <td>Partly Cloudy</td>\n",
       "      <td>rain</td>\n",
       "      <td>8.288889</td>\n",
       "      <td>5.944444</td>\n",
       "      <td>0.83</td>\n",
       "      <td>14.1036</td>\n",
       "      <td>269.0</td>\n",
       "      <td>15.8263</td>\n",
       "      <td>0.0</td>\n",
       "      <td>1016.41</td>\n",
       "      <td>Partly cloudy throughout the day.</td>\n",
       "    </tr>\n",
       "    <tr>\n",
       "      <th>4</th>\n",
       "      <td>2006-04-01 04:00:00.000 +0200</td>\n",
       "      <td>Mostly Cloudy</td>\n",
       "      <td>rain</td>\n",
       "      <td>8.755556</td>\n",
       "      <td>6.977778</td>\n",
       "      <td>0.83</td>\n",
       "      <td>11.0446</td>\n",
       "      <td>259.0</td>\n",
       "      <td>15.8263</td>\n",
       "      <td>0.0</td>\n",
       "      <td>1016.51</td>\n",
       "      <td>Partly cloudy throughout the day.</td>\n",
       "    </tr>\n",
       "  </tbody>\n",
       "</table>\n",
       "</div>"
      ],
      "text/plain": [
       "                  Formatted Date        Summary Precip Type  Temperature (C)  \\\n",
       "0  2006-04-01 00:00:00.000 +0200  Partly Cloudy        rain         9.472222   \n",
       "1  2006-04-01 01:00:00.000 +0200  Partly Cloudy        rain         9.355556   \n",
       "2  2006-04-01 02:00:00.000 +0200  Mostly Cloudy        rain         9.377778   \n",
       "3  2006-04-01 03:00:00.000 +0200  Partly Cloudy        rain         8.288889   \n",
       "4  2006-04-01 04:00:00.000 +0200  Mostly Cloudy        rain         8.755556   \n",
       "\n",
       "   Apparent Temperature (C)  Humidity  Wind Speed (km/h)  \\\n",
       "0                  7.388889      0.89            14.1197   \n",
       "1                  7.227778      0.86            14.2646   \n",
       "2                  9.377778      0.89             3.9284   \n",
       "3                  5.944444      0.83            14.1036   \n",
       "4                  6.977778      0.83            11.0446   \n",
       "\n",
       "   Wind Bearing (degrees)  Visibility (km)  Loud Cover  Pressure (millibars)  \\\n",
       "0                   251.0          15.8263         0.0               1015.13   \n",
       "1                   259.0          15.8263         0.0               1015.63   \n",
       "2                   204.0          14.9569         0.0               1015.94   \n",
       "3                   269.0          15.8263         0.0               1016.41   \n",
       "4                   259.0          15.8263         0.0               1016.51   \n",
       "\n",
       "                       Daily Summary  \n",
       "0  Partly cloudy throughout the day.  \n",
       "1  Partly cloudy throughout the day.  \n",
       "2  Partly cloudy throughout the day.  \n",
       "3  Partly cloudy throughout the day.  \n",
       "4  Partly cloudy throughout the day.  "
      ]
     },
     "execution_count": 2,
     "metadata": {},
     "output_type": "execute_result"
    }
   ],
   "source": [
    "data = pd.read_csv('data/weatherHistory.csv').head(5)\n",
    "data"
   ]
  },
  {
   "cell_type": "code",
   "execution_count": 8,
   "id": "f44067ab",
   "metadata": {},
   "outputs": [
    {
     "name": "stdout",
     "output_type": "stream",
     "text": [
      "<class 'pandas.core.frame.DataFrame'>\n",
      "RangeIndex: 5 entries, 0 to 4\n",
      "Data columns (total 12 columns):\n",
      " #   Column                    Non-Null Count  Dtype  \n",
      "---  ------                    --------------  -----  \n",
      " 0   Formatted Date            5 non-null      object \n",
      " 1   Summary                   5 non-null      object \n",
      " 2   Precip Type               5 non-null      object \n",
      " 3   Temperature (C)           5 non-null      float64\n",
      " 4   Apparent Temperature (C)  5 non-null      float64\n",
      " 5   Humidity                  5 non-null      float64\n",
      " 6   Wind Speed (km/h)         5 non-null      float64\n",
      " 7   Wind Bearing (degrees)    5 non-null      float64\n",
      " 8   Visibility (km)           5 non-null      float64\n",
      " 9   Loud Cover                5 non-null      float64\n",
      " 10  Pressure (millibars)      5 non-null      float64\n",
      " 11  Daily Summary             5 non-null      object \n",
      "dtypes: float64(8), object(4)\n",
      "memory usage: 608.0+ bytes\n"
     ]
    }
   ],
   "source": [
    "data.info()"
   ]
  },
  {
   "cell_type": "markdown",
   "id": "d8a22364",
   "metadata": {},
   "source": [
    "- extract the features into arrays."
   ]
  },
  {
   "cell_type": "code",
   "execution_count": 166,
   "id": "2bc32c0a",
   "metadata": {},
   "outputs": [],
   "source": [
    "x_train = np.array([data['Pressure (millibars)'], data[\"Humidity\"], data['Wind Speed (km/h)']]).transpose() #features\n",
    "y_train = np.array(data['Temperature (C)']) # target "
   ]
  },
  {
   "cell_type": "code",
   "execution_count": 167,
   "id": "1d64da3e",
   "metadata": {},
   "outputs": [
    {
     "name": "stdout",
     "output_type": "stream",
     "text": [
      "X (5, 3) and the type of this data is <class 'numpy.ndarray'>\n",
      "[[1.01513e+03 8.90000e-01 1.41197e+01]\n",
      " [1.01563e+03 8.60000e-01 1.42646e+01]\n",
      " [1.01594e+03 8.90000e-01 3.92840e+00]\n",
      " [1.01641e+03 8.30000e-01 1.41036e+01]\n",
      " [1.01651e+03 8.30000e-01 1.10446e+01]]\n"
     ]
    }
   ],
   "source": [
    "print(f\"X {x_train.shape} and the type of this data is {type(x_train)}\")\n",
    "print(x_train)"
   ]
  },
  {
   "cell_type": "code",
   "execution_count": 168,
   "id": "07ea08ef",
   "metadata": {},
   "outputs": [
    {
     "data": {
      "text/plain": [
       "(5, 3)"
      ]
     },
     "execution_count": 168,
     "metadata": {},
     "output_type": "execute_result"
    }
   ],
   "source": [
    "x_train.shape"
   ]
  },
  {
   "cell_type": "code",
   "execution_count": 74,
   "id": "26064292",
   "metadata": {},
   "outputs": [
    {
     "data": {
      "text/plain": [
       "array([9.47222222, 9.35555556, 9.37777778, 8.28888889, 8.75555556])"
      ]
     },
     "execution_count": 74,
     "metadata": {},
     "output_type": "execute_result"
    }
   ],
   "source": [
    "y_train.transpose()"
   ]
  },
  {
   "cell_type": "code",
   "execution_count": 128,
   "id": "0a706109",
   "metadata": {},
   "outputs": [],
   "source": [
    "# X_train = np.array([[2104, 5, 1, 45], [1416, 3, 2, 40], [852, 2, 1, 35]])\n",
    "# y_train = np.array([460, 232, 178])"
   ]
  },
  {
   "cell_type": "markdown",
   "id": "e1454d27",
   "metadata": {},
   "source": [
    "### Initializing __w__ and __b__ vectors"
   ]
  },
  {
   "cell_type": "code",
   "execution_count": 170,
   "id": "5f09f20d",
   "metadata": {},
   "outputs": [
    {
     "data": {
      "text/plain": [
       "array([0., 0., 0.])"
      ]
     },
     "execution_count": 170,
     "metadata": {},
     "output_type": "execute_result"
    }
   ],
   "source": [
    "w = np.zeros(x_train.shape[1])\n",
    "b = 0\n",
    "w"
   ]
  },
  {
   "cell_type": "markdown",
   "id": "97029c4b",
   "metadata": {},
   "source": [
    "- to predict the value of `x[i]` we will have to use the vector dot."
   ]
  },
  {
   "cell_type": "code",
   "execution_count": 171,
   "id": "1dad95a5",
   "metadata": {},
   "outputs": [],
   "source": [
    "def predict(x_feature, w, b):\n",
    "    vector = np.dot(x_feature, w)\n",
    "    return vector + b"
   ]
  },
  {
   "cell_type": "code",
   "execution_count": 146,
   "id": "b4da94cc",
   "metadata": {},
   "outputs": [],
   "source": [
    "b_init = 785.1811367994083\n",
    "w_init = np.array([ 0.39133535, 18.75376741, -53.36032453, -26.42131618])"
   ]
  },
  {
   "cell_type": "markdown",
   "id": "ddbe541a",
   "metadata": {},
   "source": [
    "### Computing the cost function using a vector of features"
   ]
  },
  {
   "cell_type": "code",
   "execution_count": 172,
   "id": "c7312c84",
   "metadata": {},
   "outputs": [],
   "source": [
    "def cost_function(x_features,y_target, w, b):\n",
    "    cost =0.0\n",
    "    m = x_features.shape[0]\n",
    "    for i in range(m):\n",
    "        f_wb_i = np.dot(x_features[i], w) +b\n",
    "        cost = cost + (f_wb_i - y_target[i])**2\n",
    "    return cost / (2 * m)"
   ]
  },
  {
   "cell_type": "code",
   "execution_count": 173,
   "id": "29090a5e",
   "metadata": {
    "scrolled": false
   },
   "outputs": [
    {
     "data": {
      "text/plain": [
       "44.19868827160494"
      ]
     },
     "execution_count": 173,
     "metadata": {},
     "output_type": "execute_result"
    }
   ],
   "source": [
    "cost_function(X_train, y_train, w_init, b_init)"
   ]
  },
  {
   "cell_type": "markdown",
   "id": "52582993",
   "metadata": {},
   "source": [
    "### Computing the gradient"
   ]
  },
  {
   "cell_type": "code",
   "execution_count": 174,
   "id": "316c0f1b",
   "metadata": {},
   "outputs": [],
   "source": [
    "def compute_gradient(x_train,y_train, w,b):\n",
    "    m,n = x_train.shape\n",
    "    dj_dw = np.zeros((n,))\n",
    "    dj_db = 0.0\n",
    "    for i in range(m):\n",
    "        square = (np.dot(x_train[i], w) +b) - y_train[i]\n",
    "        for j in range(n):\n",
    "            dj_dw[j] = dj_dw[j] + (square * x_train[i,j] )\n",
    "        dj_db = dj_db + square\n",
    "    dj_db = dj_db /m \n",
    "    dj_dw = dj_dw /m\n",
    "    return dj_db, dj_dw\n"
   ]
  },
  {
   "cell_type": "code",
   "execution_count": 175,
   "id": "0876d06f",
   "metadata": {},
   "outputs": [
    {
     "name": "stdout",
     "output_type": "stream",
     "text": [
      "The derivative of j with respect to w : [-1.37222963e+04 -3.13944444e+01 -1.25203704e+01 -3.76231481e+02]\n",
      "The derivative of j with respect to b : -9.401851851851852\n"
     ]
    }
   ],
   "source": [
    "db, dw = compute_gradient(X_train, y_train, w_init,b_init)\n",
    "print(f\"The derivative of j with respect to w : {dw}\")\n",
    "print(f\"The derivative of j with respect to b : {db}\")"
   ]
  },
  {
   "cell_type": "markdown",
   "id": "d6167938",
   "metadata": {},
   "source": [
    "### Gradient descent with multiple variables"
   ]
  },
  {
   "cell_type": "code",
   "execution_count": 176,
   "id": "18ecd066",
   "metadata": {},
   "outputs": [],
   "source": [
    "def gradient_descent(x_train,y_train,alpha,iterations,compute_cost,compute_gradient,w,b):\n",
    "    \n",
    "    j_history = []\n",
    "    grad_history = []\n",
    "    \n",
    "    m,n = x_train.shape\n",
    "    for i in range(iterations):\n",
    "        \n",
    "        dj_db, dj_dw = compute_gradient(x_train, y_train, w , b)\n",
    "        w = w - alpha * dj_dw\n",
    "        b = b - alpha * dj_db\n",
    "        \n",
    "        if i < 100000:\n",
    "            j_history.append(compute_cost(x_train,y_train, w, b))\n",
    "            grad_history.append([w,b])\n",
    "        if i % math.ceil(iterations/ 10) == 0 :\n",
    "            print(f\"Iteration {i} - Cost {j_history[-1]}\")\n",
    "    return w, b, j_history, grad_history\n"
   ]
  },
  {
   "cell_type": "markdown",
   "id": "ffd1410b",
   "metadata": {},
   "source": [
    "- Running gradient descent on the weather dataset."
   ]
  },
  {
   "cell_type": "code",
   "execution_count": 180,
   "id": "ed0cdfa4",
   "metadata": {},
   "outputs": [
    {
     "name": "stdout",
     "output_type": "stream",
     "text": [
      "Iteration 0 - Cost 9.69426937942513\n",
      "Iteration 1000 - Cost 0.10616776600331737\n",
      "Iteration 2000 - Cost 0.1060591630653001\n",
      "Iteration 3000 - Cost 0.10595225876064662\n",
      "Iteration 4000 - Cost 0.1058470265095689\n",
      "Iteration 5000 - Cost 0.10574344014819359\n",
      "Iteration 6000 - Cost 0.10564147392205239\n",
      "Iteration 7000 - Cost 0.10554110247967655\n",
      "Iteration 8000 - Cost 0.10544230086629054\n",
      "Iteration 9000 - Cost 0.10534504451760532\n",
      "Predicted value of w is : [ 8.93239018e-03  6.28260074e-05 -2.16588693e-03]\n",
      "Predicted value of b is : 0.00\n"
     ]
    }
   ],
   "source": [
    "w_init = np.zeros((x_train.shape[1]))\n",
    "b_init = 0.0\n",
    "alpha = 5.0e-7\n",
    "num_iter = 10000\n",
    "pred_w, pred_b, j_hist, grad_hist = gradient_descent(x_train, y_train,alpha, num_iter,cost_function,compute_gradient,w_init,b_init)\n",
    "print(f\"Predicted value of w is : {pred_w}\")\n",
    "print(f\"Predicted value of b is : {pred_b:0.2f}\")"
   ]
  },
  {
   "cell_type": "code",
   "execution_count": 183,
   "id": "de36e9c6",
   "metadata": {},
   "outputs": [
    {
     "data": {
      "image/png": "[encoded data removed]",
      "text/plain": [
       "<Figure size 864x288 with 2 Axes>"
      ]
     },
     "metadata": {
      "needs_background": "light"
     },
     "output_type": "display_data"
    }
   ],
   "source": [
    "fig, (ax1, ax2) = plt.subplots(1, 2, constrained_layout=True, figsize=(12, 4))\n",
    "ax1.plot(j_hist)\n",
    "ax2.plot(100 + np.arange(len(j_hist[100:])), j_hist[100:])\n",
    "ax1.set_title(\"Cost vs. iteration\");  ax2.set_title(\"Cost vs. iteration (tail)\")\n",
    "ax1.set_ylabel('Cost')             ;  ax2.set_ylabel('Cost') \n",
    "ax1.set_xlabel('iteration step')   ;  ax2.set_xlabel('iteration step') \n",
    "plt.show()"
   ]
  }
 ],
 "metadata": {
  "kernelspec": {
   "display_name": "Python 3",
   "language": "python",
   "name": "python3"
  },
  "language_info": {
   "codemirror_mode": {
    "name": "ipython",
    "version": 3
   },
   "file_extension": ".py",
   "mimetype": "text/x-python",
   "name": "python",
   "nbconvert_exporter": "python",
   "pygments_lexer": "ipython3",
   "version": "3.8.8"
  }
 },
 "nbformat": 4,
 "nbformat_minor": 5
}
