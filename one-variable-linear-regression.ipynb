{
 "cells": [
  {
   "cell_type": "markdown",
   "id": "8597d954",
   "metadata": {},
   "source": [
    "# One variable linear regression "
   ]
  },
  {
   "cell_type": "markdown",
   "id": "d9383d49",
   "metadata": {},
   "source": [
    "### House prices example"
   ]
  },
  {
   "cell_type": "code",
   "execution_count": 2,
   "id": "46379999",
   "metadata": {},
   "outputs": [],
   "source": [
    "import math,copy\n",
    "import pandas as pd\n",
    "import numpy as np\n",
    "import matplotlib.pyplot as plt"
   ]
  },
  {
   "cell_type": "code",
   "execution_count": 11,
   "id": "57feaa3d",
   "metadata": {},
   "outputs": [],
   "source": [
    "data = pd.read_csv('data/kc_house_data.csv')"
   ]
  },
  {
   "cell_type": "markdown",
   "id": "f4dce888",
   "metadata": {},
   "source": [
    "To determine if the follwoing data set could be fitted into a straight line, we will generate a scatter plot."
   ]
  },
  {
   "cell_type": "code",
   "execution_count": 12,
   "id": "484bcb82",
   "metadata": {
    "scrolled": false
   },
   "outputs": [
    {
     "data": {
      "text/html": [
       "<div>\n",
       "<style scoped>\n",
       "    .dataframe tbody tr th:only-of-type {\n",
       "        vertical-align: middle;\n",
       "    }\n",
       "\n",
       "    .dataframe tbody tr th {\n",
       "        vertical-align: top;\n",
       "    }\n",
       "\n",
       "    .dataframe thead th {\n",
       "        text-align: right;\n",
       "    }\n",
       "</style>\n",
       "<table border=\"1\" class=\"dataframe\">\n",
       "  <thead>\n",
       "    <tr style=\"text-align: right;\">\n",
       "      <th></th>\n",
       "      <th>price</th>\n",
       "      <th>sqft_living</th>\n",
       "    </tr>\n",
       "  </thead>\n",
       "  <tbody>\n",
       "    <tr>\n",
       "      <th>0</th>\n",
       "      <td>221900.0</td>\n",
       "      <td>1180</td>\n",
       "    </tr>\n",
       "    <tr>\n",
       "      <th>1</th>\n",
       "      <td>538000.0</td>\n",
       "      <td>2570</td>\n",
       "    </tr>\n",
       "    <tr>\n",
       "      <th>2</th>\n",
       "      <td>180000.0</td>\n",
       "      <td>770</td>\n",
       "    </tr>\n",
       "    <tr>\n",
       "      <th>3</th>\n",
       "      <td>604000.0</td>\n",
       "      <td>1960</td>\n",
       "    </tr>\n",
       "    <tr>\n",
       "      <th>4</th>\n",
       "      <td>510000.0</td>\n",
       "      <td>1680</td>\n",
       "    </tr>\n",
       "    <tr>\n",
       "      <th>5</th>\n",
       "      <td>1225000.0</td>\n",
       "      <td>5420</td>\n",
       "    </tr>\n",
       "    <tr>\n",
       "      <th>6</th>\n",
       "      <td>257500.0</td>\n",
       "      <td>1715</td>\n",
       "    </tr>\n",
       "    <tr>\n",
       "      <th>7</th>\n",
       "      <td>291850.0</td>\n",
       "      <td>1060</td>\n",
       "    </tr>\n",
       "    <tr>\n",
       "      <th>8</th>\n",
       "      <td>229500.0</td>\n",
       "      <td>1780</td>\n",
       "    </tr>\n",
       "    <tr>\n",
       "      <th>9</th>\n",
       "      <td>323000.0</td>\n",
       "      <td>1890</td>\n",
       "    </tr>\n",
       "  </tbody>\n",
       "</table>\n",
       "</div>"
      ],
      "text/plain": [
       "       price  sqft_living\n",
       "0   221900.0         1180\n",
       "1   538000.0         2570\n",
       "2   180000.0          770\n",
       "3   604000.0         1960\n",
       "4   510000.0         1680\n",
       "5  1225000.0         5420\n",
       "6   257500.0         1715\n",
       "7   291850.0         1060\n",
       "8   229500.0         1780\n",
       "9   323000.0         1890"
      ]
     },
     "execution_count": 12,
     "metadata": {},
     "output_type": "execute_result"
    }
   ],
   "source": [
    "data_set = data.head(10)[['price', 'sqft_living']]\n",
    "data_set"
   ]
  },
  {
   "cell_type": "markdown",
   "id": "5e81bac7",
   "metadata": {},
   "source": [
    "### Feature scaling"
   ]
  },
  {
   "cell_type": "code",
   "execution_count": 69,
   "id": "020cf3c4",
   "metadata": {},
   "outputs": [],
   "source": [
    "# extract data from the data set\n",
    "x_train = np.array(data['sqft_living'].head(20)) #feature/input.\n",
    "y_train = np.array(data['price'].head(20)) #target/output :  what we are trying to predict.\n"
   ]
  },
  {
   "cell_type": "markdown",
   "id": "a5086811",
   "metadata": {},
   "source": [
    "When the values of our feature are too large, we scale them by using a __normalization formula__."
   ]
  },
  {
   "cell_type": "code",
   "execution_count": 70,
   "id": "0066218a",
   "metadata": {},
   "outputs": [
    {
     "data": {
      "text/plain": [
       "array([0.21771218, 0.47416974, 0.14206642, 0.36162362, 0.3099631 ,\n",
       "       1.        , 0.31642066, 0.19557196, 0.32841328, 0.34870849,\n",
       "       0.65682657, 0.21402214, 0.26383764, 0.25276753, 0.33394834,\n",
       "       0.54428044, 0.34870849, 0.29520295, 0.22140221, 0.23062731])"
      ]
     },
     "execution_count": 70,
     "metadata": {},
     "output_type": "execute_result"
    }
   ],
   "source": [
    "x_train_scaled = x_train / x_train.max()\n",
    "x_train_scaled"
   ]
  },
  {
   "cell_type": "code",
   "execution_count": 71,
   "id": "8a52972a",
   "metadata": {
    "scrolled": true
   },
   "outputs": [
    {
     "data": {
      "text/plain": [
       "array([0.18114286, 0.43918367, 0.14693878, 0.49306122, 0.41632653,\n",
       "       1.        , 0.21020408, 0.2382449 , 0.18734694, 0.26367347,\n",
       "       0.54081633, 0.38204082, 0.25306122, 0.32653061, 0.43265306,\n",
       "       0.53061224, 0.32244898, 0.39591837, 0.15428571, 0.1877551 ])"
      ]
     },
     "execution_count": 71,
     "metadata": {},
     "output_type": "execute_result"
    }
   ],
   "source": [
    "y_train_scaled =y_train / y_train.max()\n",
    "y_train_scaled"
   ]
  },
  {
   "cell_type": "code",
   "execution_count": 66,
   "id": "dff189b2",
   "metadata": {},
   "outputs": [],
   "source": [
    "# Load our data set\n",
    "x_tr = np.array([1.0, 2.0])   #features\n",
    "y_tr = np.array([300.0, 500.0])   #target value"
   ]
  },
  {
   "cell_type": "markdown",
   "id": "03ebabb2",
   "metadata": {},
   "source": [
    "Scatter plot of the data set"
   ]
  },
  {
   "cell_type": "code",
   "execution_count": 72,
   "id": "ffcdbcf5",
   "metadata": {
    "scrolled": true
   },
   "outputs": [
    {
     "data": {
      "image/png": "[encoded data removed]",
      "text/plain": [
       "<Figure size 432x288 with 1 Axes>"
      ]
     },
     "metadata": {
      "needs_background": "light"
     },
     "output_type": "display_data"
    }
   ],
   "source": [
    "plt.scatter(x_train_scaled, y_train_scaled, c=\"blue\")\n",
    "plt.show()"
   ]
  },
  {
   "cell_type": "markdown",
   "id": "57ebf8f7",
   "metadata": {},
   "source": [
    "### Calculating the total cost\n",
    "For this we will need to define the cost function which will calculate the total cost between the predicted values by the linear model and the actual value.\n",
    "reminder : the linear model is `f_wb = w*x + b`."
   ]
  },
  {
   "cell_type": "code",
   "execution_count": 18,
   "id": "e6cd225a",
   "metadata": {},
   "outputs": [],
   "source": [
    "def cost_function(x_train, y_train, w, b):\n",
    "    m = len(x_train)\n",
    "    cost = 0\n",
    "    for i in range(m):\n",
    "        f_wb = w*x_train[i] + b\n",
    "        square_func = (f_wb - y_train[i])**2\n",
    "        cost += square_func\n",
    "    j_wb = 1/(  2 *m)*cost\n",
    "    return j_wb"
   ]
  },
  {
   "cell_type": "code",
   "execution_count": 19,
   "id": "b5ded8a8",
   "metadata": {},
   "outputs": [
    {
     "name": "stdout",
     "output_type": "stream",
     "text": [
      "38329825000.0\n"
     ]
    }
   ],
   "source": [
    "print(cost_function(x_train,y_train,100,200))"
   ]
  },
  {
   "cell_type": "markdown",
   "id": "efc559f7",
   "metadata": {},
   "source": [
    "## Gradient descent implementation"
   ]
  },
  {
   "cell_type": "markdown",
   "id": "a80a0a7a",
   "metadata": {},
   "source": [
    "It serves for the choice **w** and **b** by such **j_wb** is the minimum."
   ]
  },
  {
   "cell_type": "code",
   "execution_count": 20,
   "id": "7e61ef07",
   "metadata": {},
   "outputs": [],
   "source": [
    "def compute_gradient(w,b,x,y):\n",
    "    m = len(x)\n",
    "    dj_dw = 0\n",
    "    dj_db = 0\n",
    "    for i in range(m):\n",
    "        f_wb = w*x[i] + b\n",
    "        dj_dw_i = (f_wb - y[i]) * x[i]\n",
    "        dj_db_i = f_wb - y[i]\n",
    "        dj_dw += dj_dw_i\n",
    "        dj_db += dj_db_i\n",
    "    \n",
    "    dj_dw = dj_dw / m\n",
    "    dj_db = dj_db / m\n",
    "    \n",
    "    return dj_dw, dj_db"
   ]
  },
  {
   "cell_type": "markdown",
   "id": "18a5f537",
   "metadata": {},
   "source": [
    " Once the calculate gradient function is defined, it will used by the gradient descent algorithm to predict the correct values of **w** & **b**."
   ]
  },
  {
   "cell_type": "code",
   "execution_count": 31,
   "id": "8f694091",
   "metadata": {},
   "outputs": [],
   "source": [
    "def gradient_descent_one(x, y, w_init,b_init,nb_iter,learning_rate, cost_func, gradient_func):\n",
    "    m = len(x)\n",
    "    b = b_init\n",
    "    w = w_init\n",
    "    cost_history = [] #saving the cost history for every pair of w, b\n",
    "    w_history = []\n",
    "    b_history = []\n",
    "    for i in range (nb_iter):\n",
    "        #calculate the gradient before \n",
    "        dj_dw, dj_db = gradient_func(w,b,x,y)\n",
    "        \n",
    "        #update w and b simultaneously \n",
    "        w = w - learning_rate * dj_dw\n",
    "        b = b - learning_rate * dj_db\n",
    "        \n",
    "        #save the cost at every iteration along with its corresponding parameter values [w,b]\n",
    "        cost_history.append(cost_func(x,y,w,b))\n",
    "        w_history.append(w)\n",
    "        \n",
    "    return w,b,cost_history,w_history\n",
    "        "
   ]
  },
  {
   "cell_type": "code",
   "execution_count": 73,
   "id": "69f1ae9e",
   "metadata": {},
   "outputs": [
    {
     "name": "stdout",
     "output_type": "stream",
     "text": [
      "value of w=0.8803879166224495 and b=0.04487157841765769\n"
     ]
    }
   ],
   "source": [
    "# initialize parameters\n",
    "w_init = 0\n",
    "b_init = 0\n",
    "# some gradient descent settings\n",
    "iterations = 10000\n",
    "tmp_alpha = 1.0e-2\n",
    "\n",
    "w, b, j_hist,w_hist = gradient_descent_one(x_train_scaled,y_train_scaled,w_init, b_init,iterations,tmp_alpha,cost_function, compute_gradient)\n",
    "print(f\"value of w={w} and b={b}\")"
   ]
  },
  {
   "cell_type": "markdown",
   "id": "c46ae03c",
   "metadata": {},
   "source": [
    "To see the difference we will plot the cost function J(w,b) at every iteration of the gradient descent, the learning rate **must** appear in decreasing direction."
   ]
  },
  {
   "cell_type": "code",
   "execution_count": 74,
   "id": "62e349bf",
   "metadata": {},
   "outputs": [
    {
     "data": {
      "image/png": "[encoded data removed]",
      "text/plain": [
       "<Figure size 432x288 with 1 Axes>"
      ]
     },
     "metadata": {
      "needs_background": "light"
     },
     "output_type": "display_data"
    }
   ],
   "source": [
    "# Set the title\n",
    "plt.title(\"predicted value W vs. J(w,b)\")\n",
    "plt.scatter(w_hist,j_hist)\n",
    "# Set the y-axis label\n",
    "plt.ylabel('J(w,b)(i)')\n",
    "# Set the x-axis label\n",
    "plt.xlabel('w(i)')\n",
    "plt.show()"
   ]
  },
  {
   "cell_type": "markdown",
   "id": "defe9a96",
   "metadata": {},
   "source": [
    "since we have predicted the parameter values of our model, now we plug then in and run our linear model."
   ]
  },
  {
   "cell_type": "code",
   "execution_count": 87,
   "id": "47834c6b",
   "metadata": {},
   "outputs": [
    {
     "data": {
      "image/png": "[encoded data removed]",
      "text/plain": [
       "<Figure size 432x288 with 1 Axes>"
      ]
     },
     "metadata": {
      "needs_background": "light"
     },
     "output_type": "display_data"
    }
   ],
   "source": [
    "predict = []\n",
    "m = x_train.shape[0]\n",
    "for i in range(m):\n",
    "    prediction = w * x_train_scaled[i] + b\n",
    "    predict.append(prediction)\n",
    "    \n",
    "# Set the title\n",
    "\n",
    "plt.plot(x_train_scaled,predict, c ='b')\n",
    "\n",
    "# Create a scatter plot of the data. \n",
    "plt.scatter(x_train_scaled, y_train_scaled, marker='x', c='r') \n",
    "plt.title(\"House prices Vs House area\")\n",
    "# Set the y-axis label\n",
    "plt.ylabel('Predicted House price in $')\n",
    "# Set the x-axis label\n",
    "plt.xlabel('House area in feet²')\n",
    "plt.show()"
   ]
  }
 ],
 "metadata": {
  "kernelspec": {
   "display_name": "Python 3",
   "language": "python",
   "name": "python3"
  },
  "language_info": {
   "codemirror_mode": {
    "name": "ipython",
    "version": 3
   },
   "file_extension": ".py",
   "mimetype": "text/x-python",
   "name": "python",
   "nbconvert_exporter": "python",
   "pygments_lexer": "ipython3",
   "version": "3.8.8"
  }
 },
 "nbformat": 4,
 "nbformat_minor": 5
}
