{
 "cells": [
  {
   "cell_type": "markdown",
   "id": "a8b2f703",
   "metadata": {},
   "source": [
    "# Implementation of Neural networks using Tensorflow - Logistic regression"
   ]
  },
  {
   "cell_type": "code",
   "execution_count": 2,
   "id": "689ffade",
   "metadata": {},
   "outputs": [],
   "source": [
    "import numpy as np\n",
    "import pandas as pd\n",
    "import matplotlib.pyplot as plt\n",
    "from tensorflow.keras.layers import Dense, Input\n",
    "from tensorflow.keras import Sequential\n",
    "from tensorflow.keras.losses import MeanSquaredError, BinaryCrossentropy\n",
    "from tensorflow.keras.activations import sigmoid"
   ]
  },
  {
   "cell_type": "markdown",
   "id": "177fe64d",
   "metadata": {},
   "source": [
    "Import and clean the data. For this example we will be using the previous wine quality data to determine, based on the input features, if the wine is *red* or *white*."
   ]
  },
  {
   "cell_type": "code",
   "execution_count": 31,
   "id": "00f20e95",
   "metadata": {},
   "outputs": [],
   "source": [
    "white_wine_data = pd.read_csv('../supervised_learning/data/winequality.csv').head(30) #loading white wine data\n",
    "red_wine_data = pd.read_csv('../supervised_learning/data/winequality.csv').tail(30) # loading red wine data\n",
    "data = pd.concat([red_wine_data, white_wine_data]) # merging the two sets for a balanced training set.\n"
   ]
  },
  {
   "cell_type": "code",
   "execution_count": 37,
   "id": "4525a115",
   "metadata": {},
   "outputs": [],
   "source": [
    "x_train = np.array([data['pH'], data['alcohol'], data['fixed acidity']]).transpose() # creating the features set."
   ]
  },
  {
   "cell_type": "code",
   "execution_count": 45,
   "id": "0191b085",
   "metadata": {},
   "outputs": [],
   "source": [
    "y_train = np.array(data['type'])# creating the output set - respect the tensorflow 1-D convention."
   ]
  },
  {
   "cell_type": "markdown",
   "id": "99664f0a",
   "metadata": {},
   "source": [
    "It is good practice to check the dimensions of the variables."
   ]
  },
  {
   "cell_type": "code",
   "execution_count": 46,
   "id": "eb90e42e",
   "metadata": {},
   "outputs": [
    {
     "name": "stdout",
     "output_type": "stream",
     "text": [
      "The shape of the features set is :(60, 3)\n",
      "The shape of the features set is :(60,)\n"
     ]
    }
   ],
   "source": [
    "print(f\"The shape of the features set is :{x_train.shape}\") # 60x3 matrix : 60 examples and 3 features\n",
    "print(f\"The shape of the features set is :{y_train.shape}\") # 60x1 matrix : 60 examples and 1 feature (type)"
   ]
  },
  {
   "cell_type": "markdown",
   "id": "965d8955",
   "metadata": {},
   "source": [
    "Creating the neural network hidden layers - initializing the model. For this model we will be using a neural network of 3 layers."
   ]
  },
  {
   "cell_type": "code",
   "execution_count": 48,
   "id": "5f16eb19",
   "metadata": {},
   "outputs": [],
   "source": [
    "model = Sequential([\n",
    "    Dense(25, input_dim=60,activation='sigmoid',name='l1'),\n",
    "    Dense(15, input_dim=25,activation='sigmoid',name='l2'),\n",
    "    Dense(1, input_dim=15,activation='sigmoid',name='l3'),\n",
    "    \n",
    "], name=\"wine_predection_model\")"
   ]
  },
  {
   "cell_type": "markdown",
   "id": "cc6bfd4b",
   "metadata": {},
   "source": [
    "Priting the model's informations."
   ]
  },
  {
   "cell_type": "code",
   "execution_count": 49,
   "id": "5c5d5d0f",
   "metadata": {
    "scrolled": true
   },
   "outputs": [
    {
     "name": "stdout",
     "output_type": "stream",
     "text": [
      "Model: \"wine_predection_model\"\n",
      "_________________________________________________________________\n",
      " Layer (type)                Output Shape              Param #   \n",
      "=================================================================\n",
      " l1 (Dense)                  (None, 25)                1525      \n",
      "                                                                 \n",
      " l2 (Dense)                  (None, 15)                390       \n",
      "                                                                 \n",
      " l3 (Dense)                  (None, 1)                 16        \n",
      "                                                                 \n",
      "=================================================================\n",
      "Total params: 1,931\n",
      "Trainable params: 1,931\n",
      "Non-trainable params: 0\n",
      "_________________________________________________________________\n"
     ]
    }
   ],
   "source": [
    "model.summary()"
   ]
  },
  {
   "cell_type": "markdown",
   "id": "42db8d19",
   "metadata": {},
   "source": [
    "Generating the weights."
   ]
  },
  {
   "cell_type": "code",
   "execution_count": 58,
   "id": "ea03943b",
   "metadata": {},
   "outputs": [
    {
     "name": "stdout",
     "output_type": "stream",
     "text": [
      "The weight of the first layer : (60, 25)\n",
      "The weight of the first layer : (25, 15)\n",
      "The weight of the first layer : (15, 1)\n"
     ]
    }
   ],
   "source": [
    "w_1, b_1 = model.layers[0].get_weights()\n",
    "w_2, b_2 = model.layers[1].get_weights()\n",
    "w_3, b_3 = model.layers[2].get_weights()\n",
    "print(f\"The weight of the first layer : {w_1.shape}\")\n",
    "print(f\"The weight of the first layer : {w_2.shape}\")\n",
    "print(f\"The weight of the first layer : {w_3.shape}\")"
   ]
  }
 ],
 "metadata": {
  "kernelspec": {
   "display_name": "Python 3",
   "language": "python",
   "name": "python3"
  },
  "language_info": {
   "codemirror_mode": {
    "name": "ipython",
    "version": 3
   },
   "file_extension": ".py",
   "mimetype": "text/x-python",
   "name": "python",
   "nbconvert_exporter": "python",
   "pygments_lexer": "ipython3",
   "version": "3.8.8"
  }
 },
 "nbformat": 4,
 "nbformat_minor": 5
}
